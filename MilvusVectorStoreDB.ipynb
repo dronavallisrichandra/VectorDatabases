{
  "nbformat": 4,
  "nbformat_minor": 0,
  "metadata": {
    "colab": {
      "provenance": []
    },
    "kernelspec": {
      "name": "python3",
      "display_name": "Python 3"
    },
    "language_info": {
      "name": "python"
    }
  },
  "cells": [
    {
      "cell_type": "code",
      "execution_count": 1,
      "metadata": {
        "colab": {
          "base_uri": "https://localhost:8080/"
        },
        "id": "jgGA8usap9sH",
        "outputId": "25d881a6-c5aa-4d90-8098-a9c2daf86f30"
      },
      "outputs": [
        {
          "output_type": "stream",
          "name": "stdout",
          "text": [
            "\u001b[2K     \u001b[90m━━━━━━━━━━━━━━━━━━━━━━━━━━━━━━━━━━━━━━━━\u001b[0m \u001b[32m191.8/191.8 kB\u001b[0m \u001b[31m3.5 MB/s\u001b[0m eta \u001b[36m0:00:00\u001b[0m\n",
            "\u001b[2K     \u001b[90m━━━━━━━━━━━━━━━━━━━━━━━━━━━━━━━━━━━━━━━━\u001b[0m \u001b[32m5.4/5.4 MB\u001b[0m \u001b[31m12.1 MB/s\u001b[0m eta \u001b[36m0:00:00\u001b[0m\n",
            "\u001b[2K     \u001b[90m━━━━━━━━━━━━━━━━━━━━━━━━━━━━━━━━━━━━━━━━\u001b[0m \u001b[32m53.2/53.2 kB\u001b[0m \u001b[31m6.6 MB/s\u001b[0m eta \u001b[36m0:00:00\u001b[0m\n",
            "\u001b[2K     \u001b[90m━━━━━━━━━━━━━━━━━━━━━━━━━━━━━━━━━━━━━━━━\u001b[0m \u001b[32m93.5/93.5 kB\u001b[0m \u001b[31m12.4 MB/s\u001b[0m eta \u001b[36m0:00:00\u001b[0m\n",
            "\u001b[2K     \u001b[90m━━━━━━━━━━━━━━━━━━━━━━━━━━━━━━━━━━━━━━━━\u001b[0m \u001b[32m394.5/394.5 kB\u001b[0m \u001b[31m15.2 MB/s\u001b[0m eta \u001b[36m0:00:00\u001b[0m\n",
            "\u001b[2K     \u001b[90m━━━━━━━━━━━━━━━━━━━━━━━━━━━━━━━━━━━━━━━━\u001b[0m \u001b[32m49.4/49.4 kB\u001b[0m \u001b[31m4.6 MB/s\u001b[0m eta \u001b[36m0:00:00\u001b[0m\n",
            "\u001b[2K     \u001b[90m━━━━━━━━━━━━━━━━━━━━━━━━━━━━━━━━━━━━━━━━\u001b[0m \u001b[32m2.1/2.1 MB\u001b[0m \u001b[31m23.3 MB/s\u001b[0m eta \u001b[36m0:00:00\u001b[0m\n",
            "\u001b[2K     \u001b[90m━━━━━━━━━━━━━━━━━━━━━━━━━━━━━━━━━━━━━━━━\u001b[0m \u001b[32m193.4/193.4 kB\u001b[0m \u001b[31m22.6 MB/s\u001b[0m eta \u001b[36m0:00:00\u001b[0m\n",
            "\u001b[2K     \u001b[90m━━━━━━━━━━━━━━━━━━━━━━━━━━━━━━━━━━━━━━━━\u001b[0m \u001b[32m41.7/41.7 kB\u001b[0m \u001b[31m5.1 MB/s\u001b[0m eta \u001b[36m0:00:00\u001b[0m\n",
            "\u001b[?25h"
          ]
        }
      ],
      "source": [
        "%pip install --upgrade --quiet  pymilvus"
      ]
    },
    {
      "cell_type": "code",
      "source": [
        "#We want to use OpenAIEmbeddings so we have to get the OpenAI API Key."
      ],
      "metadata": {
        "id": "DTXP998hp_IQ"
      },
      "execution_count": null,
      "outputs": []
    },
    {
      "cell_type": "code",
      "source": [
        "import getpass\n",
        "import os\n",
        "\n",
        "os.environ[\"OPENAI_API_KEY\"] = getpass.getpass(\"OpenAI API Key:\")"
      ],
      "metadata": {
        "colab": {
          "base_uri": "https://localhost:8080/"
        },
        "id": "8Z0EESlIp_Lw",
        "outputId": "aca0b14b-b9a6-47b1-99b6-c2134b183638"
      },
      "execution_count": 2,
      "outputs": [
        {
          "name": "stdout",
          "output_type": "stream",
          "text": [
            "OpenAI API Key:··········\n"
          ]
        }
      ]
    },
    {
      "cell_type": "code",
      "source": [
        "%pip install --upgrade --quiet  langchain_community"
      ],
      "metadata": {
        "colab": {
          "base_uri": "https://localhost:8080/"
        },
        "id": "Rhd_JQLOqez3",
        "outputId": "02b35432-14b4-42b7-9424-bdeeb2ff0cf1"
      },
      "execution_count": 4,
      "outputs": [
        {
          "output_type": "stream",
          "name": "stdout",
          "text": [
            "\u001b[2K     \u001b[90m━━━━━━━━━━━━━━━━━━━━━━━━━━━━━━━━━━━━━━━━\u001b[0m \u001b[32m1.9/1.9 MB\u001b[0m \u001b[31m15.6 MB/s\u001b[0m eta \u001b[36m0:00:00\u001b[0m\n",
            "\u001b[2K     \u001b[90m━━━━━━━━━━━━━━━━━━━━━━━━━━━━━━━━━━━━━━━━\u001b[0m \u001b[32m299.3/299.3 kB\u001b[0m \u001b[31m28.0 MB/s\u001b[0m eta \u001b[36m0:00:00\u001b[0m\n",
            "\u001b[2K     \u001b[90m━━━━━━━━━━━━━━━━━━━━━━━━━━━━━━━━━━━━━━━━\u001b[0m \u001b[32m116.0/116.0 kB\u001b[0m \u001b[31m12.5 MB/s\u001b[0m eta \u001b[36m0:00:00\u001b[0m\n",
            "\u001b[2K     \u001b[90m━━━━━━━━━━━━━━━━━━━━━━━━━━━━━━━━━━━━━━━━\u001b[0m \u001b[32m53.0/53.0 kB\u001b[0m \u001b[31m6.7 MB/s\u001b[0m eta \u001b[36m0:00:00\u001b[0m\n",
            "\u001b[2K     \u001b[90m━━━━━━━━━━━━━━━━━━━━━━━━━━━━━━━━━━━━━━━━\u001b[0m \u001b[32m141.1/141.1 kB\u001b[0m \u001b[31m18.8 MB/s\u001b[0m eta \u001b[36m0:00:00\u001b[0m\n",
            "\u001b[?25h"
          ]
        }
      ]
    },
    {
      "cell_type": "code",
      "source": [
        "%pip install --upgrade --quiet langchain_openai\n",
        "%pip install --upgrade --quiet langchain_text_splitters"
      ],
      "metadata": {
        "id": "GofEm2bhqe3Y"
      },
      "execution_count": 8,
      "outputs": []
    },
    {
      "cell_type": "code",
      "source": [
        "from langchain_community.document_loaders import TextLoader\n",
        "from langchain_community.vectorstores import Milvus\n",
        "from langchain_openai import OpenAIEmbeddings\n",
        "from langchain_text_splitters import CharacterTextSplitter"
      ],
      "metadata": {
        "id": "g9VyFKsgp_PX"
      },
      "execution_count": 9,
      "outputs": []
    },
    {
      "cell_type": "code",
      "source": [
        "from langchain_community.document_loaders import TextLoader\n",
        "\n",
        "loader = TextLoader(\"../../modules/state_of_the_union.txt\")\n",
        "documents = loader.load()\n",
        "text_splitter = CharacterTextSplitter(chunk_size=1000, chunk_overlap=0)\n",
        "docs = text_splitter.split_documents(documents)\n",
        "\n",
        "embeddings = OpenAIEmbeddings()"
      ],
      "metadata": {
        "id": "_hWcqjKup_SO"
      },
      "execution_count": null,
      "outputs": []
    },
    {
      "cell_type": "code",
      "source": [
        "vector_db = Milvus.from_documents(\n",
        "    docs,\n",
        "    embeddings,\n",
        "    connection_args={\"host\": \"127.0.0.1\", \"port\": \"19530\"},\n",
        ")"
      ],
      "metadata": {
        "id": "qb9QWWaup_VP"
      },
      "execution_count": null,
      "outputs": []
    },
    {
      "cell_type": "code",
      "source": [
        "query = \"What did the president say about Ketanji Brown Jackson\"\n",
        "docs = vector_db.similarity_search(query)"
      ],
      "metadata": {
        "id": "12gkkeP2p_X_"
      },
      "execution_count": null,
      "outputs": []
    },
    {
      "cell_type": "code",
      "source": [
        "docs[0].page_content"
      ],
      "metadata": {
        "id": "0kRylWGpp_bP"
      },
      "execution_count": null,
      "outputs": []
    },
    {
      "cell_type": "code",
      "source": [
        "# Compartmentalize the data with Milvus Collections\n",
        "# You can store different unrelated documents in different collections within same Milvus instance to maintain the context\n",
        "\n",
        "# Here’s how you can create a new collection\n",
        "\n"
      ],
      "metadata": {
        "id": "sQL2bF1Mp_eb"
      },
      "execution_count": null,
      "outputs": []
    },
    {
      "cell_type": "code",
      "source": [
        "vector_db = Milvus.from_documents(\n",
        "    docs,\n",
        "    embeddings,\n",
        "    collection_name=\"collection_1\",\n",
        "    connection_args={\"host\": \"127.0.0.1\", \"port\": \"19530\"},\n",
        ")"
      ],
      "metadata": {
        "id": "uUaLcs90p_h2"
      },
      "execution_count": null,
      "outputs": []
    },
    {
      "cell_type": "code",
      "source": [
        "# And here is how you retrieve that stored collection"
      ],
      "metadata": {
        "id": "7Fnkwt-Mp_kY"
      },
      "execution_count": null,
      "outputs": []
    },
    {
      "cell_type": "code",
      "source": [
        "vector_db = Milvus(\n",
        "    embeddings,\n",
        "    connection_args={\"host\": \"127.0.0.1\", \"port\": \"19530\"},\n",
        "    collection_name=\"collection_1\",\n",
        ")"
      ],
      "metadata": {
        "id": "SYZyXlJmp_nn"
      },
      "execution_count": null,
      "outputs": []
    },
    {
      "cell_type": "code",
      "source": [
        "# After retrieval you can go on querying it as usual.\n",
        "\n",
        "# Per-User Retrieval\n",
        "# When building a retrieval app, you often have to build it with multiple users in mind. This means that you may be storing data not just for one user, but for many different users, and they should not be able to see eachother’s data.\n",
        "\n",
        "# Milvus recommends using partition_key to implement multi-tenancy, here is an example."
      ],
      "metadata": {
        "id": "pSKP5tsDp_q2"
      },
      "execution_count": null,
      "outputs": []
    },
    {
      "cell_type": "code",
      "source": [
        "from langchain_core.documents import Document\n",
        "\n",
        "docs = [\n",
        "    Document(page_content=\"i worked at kensho\", metadata={\"namespace\": \"harrison\"}),\n",
        "    Document(page_content=\"i worked at facebook\", metadata={\"namespace\": \"ankush\"}),\n",
        "]\n",
        "vectorstore = Milvus.from_documents(\n",
        "    docs,\n",
        "    embeddings,\n",
        "    connection_args={\"host\": \"127.0.0.1\", \"port\": \"19530\"},\n",
        "    drop_old=True,\n",
        "    partition_key_field=\"namespace\",  # Use the \"namespace\" field as the partition key\n",
        ")"
      ],
      "metadata": {
        "id": "VwNzDo9Ap_t4"
      },
      "execution_count": null,
      "outputs": []
    },
    {
      "cell_type": "code",
      "source": [
        "# To conduct a search using the partition key, you should include either of the following in the boolean expression of the search request:\n",
        "\n",
        "# search_kwargs={\"expr\": '<partition_key> == \"xxxx\"'}\n",
        "\n",
        "# search_kwargs={\"expr\": '<partition_key> == in [\"xxx\", \"xxx\"]'}\n",
        "\n",
        "# Do replace <partition_key> with the name of the field that is designated as the partition key.\n",
        "\n",
        "# # Milvus changes to a partition based on the specified partition key, filters entities according to the partition key, and searches among the filtered entities."
      ],
      "metadata": {
        "id": "AYB-pN1Lp_w5"
      },
      "execution_count": null,
      "outputs": []
    },
    {
      "cell_type": "code",
      "source": [
        "# This will only get documents for Ankush\n",
        "vectorstore.as_retriever(search_kwargs={\"expr\": 'namespace == \"ankush\"'}).invoke(\n",
        "    \"where did i work?\"\n",
        ")"
      ],
      "metadata": {
        "id": "_kSQrcrJp_zv"
      },
      "execution_count": null,
      "outputs": []
    },
    {
      "cell_type": "code",
      "source": [
        "# This will only get documents for Harrison\n",
        "vectorstore.as_retriever(search_kwargs={\"expr\": 'namespace == \"harrison\"'}).invoke(\n",
        "    \"where did i work?\"\n",
        ")"
      ],
      "metadata": {
        "id": "0WwBOBEDp_26"
      },
      "execution_count": null,
      "outputs": []
    },
    {
      "cell_type": "code",
      "source": [
        "# To delete or upsert (update/insert) one or more entities:"
      ],
      "metadata": {
        "id": "oLTcgaMyp_54"
      },
      "execution_count": null,
      "outputs": []
    },
    {
      "cell_type": "code",
      "source": [
        "from langchain_community.docstore.document import Document\n",
        "\n",
        "# Insert data sample\n",
        "docs = [\n",
        "    Document(page_content=\"foo\", metadata={\"id\": 1}),\n",
        "    Document(page_content=\"bar\", metadata={\"id\": 2}),\n",
        "    Document(page_content=\"baz\", metadata={\"id\": 3}),\n",
        "]\n",
        "vector_db = Milvus.from_documents(\n",
        "    docs,\n",
        "    embeddings,\n",
        "    connection_args={\"host\": \"127.0.0.1\", \"port\": \"19530\"},\n",
        ")\n",
        "\n",
        "# Search pks (primary keys) using expression\n",
        "expr = \"id in [1,2]\"\n",
        "pks = vector_db.get_pks(expr)\n",
        "\n",
        "# Delete entities by pks\n",
        "result = vector_db.delete(pks)\n",
        "\n",
        "# Upsert (Update/Insert)\n",
        "new_docs = [\n",
        "    Document(page_content=\"new_foo\", metadata={\"id\": 1}),\n",
        "    Document(page_content=\"new_bar\", metadata={\"id\": 2}),\n",
        "    Document(page_content=\"upserted_bak\", metadata={\"id\": 3}),\n",
        "]\n",
        "upserted_pks = vector_db.upsert(pks, new_docs)"
      ],
      "metadata": {
        "id": "glObqiJSu2KY"
      },
      "execution_count": null,
      "outputs": []
    },
    {
      "cell_type": "code",
      "source": [],
      "metadata": {
        "id": "U1AN6bv2u2OH"
      },
      "execution_count": null,
      "outputs": []
    },
    {
      "cell_type": "code",
      "source": [],
      "metadata": {
        "id": "KZ9vWMylu2Tn"
      },
      "execution_count": null,
      "outputs": []
    },
    {
      "cell_type": "code",
      "source": [],
      "metadata": {
        "id": "ChueQGWGu2W2"
      },
      "execution_count": null,
      "outputs": []
    },
    {
      "cell_type": "code",
      "source": [],
      "metadata": {
        "id": "78nN8Gu3u2Z-"
      },
      "execution_count": null,
      "outputs": []
    }
  ]
}